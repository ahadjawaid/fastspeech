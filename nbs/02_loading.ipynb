{
 "cells": [
  {
   "cell_type": "code",
   "execution_count": null,
   "id": "34b97c3c",
   "metadata": {},
   "outputs": [],
   "source": [
    "#| default_exp loading"
   ]
  },
  {
   "cell_type": "code",
   "execution_count": null,
   "id": "1488edbe",
   "metadata": {},
   "outputs": [],
   "source": [
    "#| hide\n",
    "from nbdev.showdoc import *"
   ]
  },
  {
   "cell_type": "markdown",
   "id": "2ddda8b4",
   "metadata": {},
   "source": [
    "# loading\n",
    "> This module contains the functions used to load in the data that will be used by the TTSDataset"
   ]
  },
  {
   "cell_type": "code",
   "execution_count": null,
   "id": "cedf7186",
   "metadata": {},
   "outputs": [],
   "source": [
    "#| export \n",
    "from fastai.data.transforms import FileGetter\n",
    "from pathlib import Path\n",
    "import tgt\n",
    "import librosa"
   ]
  },
  {
   "cell_type": "code",
   "execution_count": null,
   "id": "3f865159",
   "metadata": {},
   "outputs": [],
   "source": [
    "#| hide\n",
    "from pathlib import Path"
   ]
  },
  {
   "cell_type": "code",
   "execution_count": null,
   "id": "06d68641",
   "metadata": {},
   "outputs": [],
   "source": [
    "#| hide\n",
    "path = Path(\"../../data/LJSpeech-1.1\")"
   ]
  },
  {
   "cell_type": "markdown",
   "id": "50108a70",
   "metadata": {},
   "source": [
    "## audio"
   ]
  },
  {
   "cell_type": "code",
   "execution_count": null,
   "id": "491f5056",
   "metadata": {},
   "outputs": [],
   "source": [
    "#| export\n",
    "def get_audio_files(dir_path: str): # Path of directory containing ```.wav``` files\n",
    "    return FileGetter(extensions='.wav')(dir_path)"
   ]
  },
  {
   "cell_type": "code",
   "execution_count": null,
   "id": "03469839",
   "metadata": {},
   "outputs": [
    {
     "data": {
      "text/plain": [
       "(Path('../../data/LJSpeech-1.1/wavs/LJ028-0259.wav'), 13082)"
      ]
     },
     "execution_count": null,
     "metadata": {},
     "output_type": "execute_result"
    }
   ],
   "source": [
    "file_paths = get_audio_files(path)\n",
    "file_path = file_paths[0]\n",
    "file_path, len(file_paths)"
   ]
  },
  {
   "cell_type": "code",
   "execution_count": null,
   "id": "2741d10b",
   "metadata": {},
   "outputs": [],
   "source": [
    "#| export\n",
    "def load_audio(file_path: str, # Path to a file with ```.wav``` extension\n",
    "               sr: int): # Sampling rate\n",
    "    wav, _ = librosa.load(file_path, sr=sr)\n",
    "    return wav"
   ]
  },
  {
   "cell_type": "code",
   "execution_count": null,
   "id": "5ab8b6dc",
   "metadata": {},
   "outputs": [
    {
     "data": {
      "text/plain": [
       "(144029,)"
      ]
     },
     "execution_count": null,
     "metadata": {},
     "output_type": "execute_result"
    }
   ],
   "source": [
    "wav = load_audio(file_path, 22050)\n",
    "wav.shape"
   ]
  },
  {
   "cell_type": "markdown",
   "id": "522db10c",
   "metadata": {},
   "source": [
    "## phones and durations"
   ]
  },
  {
   "cell_type": "code",
   "execution_count": null,
   "id": "ab801fd5",
   "metadata": {},
   "outputs": [],
   "source": [
    "#| export\n",
    "def replace_extension(path: str, # File path\n",
    "                      extension: str): # New extension\n",
    "    return Path(path).with_suffix(extension)"
   ]
  },
  {
   "cell_type": "code",
   "execution_count": null,
   "id": "01f8fcb0",
   "metadata": {},
   "outputs": [
    {
     "data": {
      "text/plain": [
       "Path('../../data/LJSpeech-1.1/wavs/LJ028-0259.TextGrid')"
      ]
     },
     "execution_count": null,
     "metadata": {},
     "output_type": "execute_result"
    }
   ],
   "source": [
    "tgt_path = replace_extension(file_path, \".TextGrid\")\n",
    "tgt_path"
   ]
  },
  {
   "cell_type": "code",
   "execution_count": null,
   "id": "798d24d7",
   "metadata": {},
   "outputs": [],
   "source": [
    "#| export\n",
    "def load_tiers(file_path: str): # Path to a ```.TextGrid``` file\n",
    "    return tgt.io.read_textgrid(file_path).get_tier_by_name(\"phones\")"
   ]
  },
  {
   "cell_type": "code",
   "execution_count": null,
   "id": "e6d9feb1",
   "metadata": {},
   "outputs": [
    {
     "data": {
      "text/plain": [
       "Interval(0.0, 0.03, \"DH\")"
      ]
     },
     "execution_count": null,
     "metadata": {},
     "output_type": "execute_result"
    }
   ],
   "source": [
    "tiers = load_tiers(tgt_path)\n",
    "tiers[0]"
   ]
  },
  {
   "cell_type": "code",
   "execution_count": null,
   "id": "95107c53",
   "metadata": {},
   "outputs": [],
   "source": [
    "#| export\n",
    "def get_phones_and_durations(tgt_path: str, # Path to a ```.TextGrid``` file\n",
    "                             sr: int, # Waveform sampling rate\n",
    "                             hl: int): # Spectrogram hop length\n",
    "    tiers = load_tiers(tgt_path)\n",
    "    phones, durations = zip(*map(lambda x: (x.text, x.duration()*sr / hl), tiers))\n",
    "    return phones, durations"
   ]
  },
  {
   "cell_type": "code",
   "execution_count": null,
   "id": "b4f7302d",
   "metadata": {},
   "outputs": [
    {
     "data": {
      "text/plain": [
       "(('DH', 'AE1', 'T'), (2.583984375, 11.197265625, 7.751953125))"
      ]
     },
     "execution_count": null,
     "metadata": {},
     "output_type": "execute_result"
    }
   ],
   "source": [
    "phones, durations = get_phones_and_durations(tgt_path, 22050, 256)\n",
    "phones[:3], durations[:3]"
   ]
  },
  {
   "cell_type": "code",
   "execution_count": null,
   "id": "0d9a1f36",
   "metadata": {},
   "outputs": [],
   "source": [
    "#| hide\n",
    "import nbdev; nbdev.nbdev_export()"
   ]
  }
 ],
 "metadata": {
  "kernelspec": {
   "display_name": "python3",
   "language": "python",
   "name": "python3"
  }
 },
 "nbformat": 4,
 "nbformat_minor": 5
}
